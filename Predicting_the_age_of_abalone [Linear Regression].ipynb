{
 "cells": [
  {
   "cell_type": "code",
   "execution_count": 1,
   "id": "5632c150",
   "metadata": {},
   "outputs": [],
   "source": [
    "#special thanks to the Marine Resources Division\n",
    "# link to the dataset : https://archive.ics.uci.edu/ml/datasets/Abalone"
   ]
  },
  {
   "cell_type": "code",
   "execution_count": 2,
   "id": "7dfd883b",
   "metadata": {},
   "outputs": [
    {
     "data": {
      "text/html": [
       "\n",
       "            <div>\n",
       "                <p><b>SparkSession - in-memory</b></p>\n",
       "                \n",
       "        <div>\n",
       "            <p><b>SparkContext</b></p>\n",
       "\n",
       "            <p><a href=\"http://DESKTOP-TQA2F8M:4042\">Spark UI</a></p>\n",
       "\n",
       "            <dl>\n",
       "              <dt>Version</dt>\n",
       "                <dd><code>v3.3.1</code></dd>\n",
       "              <dt>Master</dt>\n",
       "                <dd><code>local[*]</code></dd>\n",
       "              <dt>AppName</dt>\n",
       "                <dd><code>age_abalone</code></dd>\n",
       "            </dl>\n",
       "        </div>\n",
       "        \n",
       "            </div>\n",
       "        "
      ],
      "text/plain": [
       "<pyspark.sql.session.SparkSession at 0x207cf103d00>"
      ]
     },
     "execution_count": 2,
     "metadata": {},
     "output_type": "execute_result"
    }
   ],
   "source": [
    "# importing pysaprk\n",
    "import findspark\n",
    "findspark.init()\n",
    "from pyspark.sql import SparkSession\n",
    "spark_session = SparkSession.builder.appName(\"age_abalone\").getOrCreate()\n",
    "spark_session"
   ]
  },
  {
   "cell_type": "code",
   "execution_count": 3,
   "id": "361fc2ba",
   "metadata": {},
   "outputs": [
    {
     "name": "stdout",
     "output_type": "stream",
     "text": [
      "4177\n",
      "+---+------+--------+------+------------+--------------+---------------+------------+-----+\n",
      "|sex|Length|Diameter|Height|Whole_weight|Shucked_weight|Viscera_weight |Shell_weight|Rings|\n",
      "+---+------+--------+------+------------+--------------+---------------+------------+-----+\n",
      "|  M| 0.455|   0.365| 0.095|       0.514|        0.2245|          0.101|        0.15|   15|\n",
      "|  M|  0.35|   0.265|  0.09|      0.2255|        0.0995|         0.0485|        0.07|    7|\n",
      "|  F|  0.53|    0.42| 0.135|       0.677|        0.2565|         0.1415|        0.21|    9|\n",
      "|  M|  0.44|   0.365| 0.125|       0.516|        0.2155|          0.114|       0.155|   10|\n",
      "|  I|  0.33|   0.255|  0.08|       0.205|        0.0895|         0.0395|       0.055|    7|\n",
      "|  I| 0.425|     0.3| 0.095|      0.3515|         0.141|         0.0775|        0.12|    8|\n",
      "|  F|  0.53|   0.415|  0.15|      0.7775|         0.237|         0.1415|        0.33|   20|\n",
      "|  F| 0.545|   0.425| 0.125|       0.768|         0.294|         0.1495|        0.26|   16|\n",
      "|  M| 0.475|    0.37| 0.125|      0.5095|        0.2165|         0.1125|       0.165|    9|\n",
      "|  F|  0.55|    0.44|  0.15|      0.8945|        0.3145|          0.151|        0.32|   19|\n",
      "|  F| 0.525|    0.38|  0.14|      0.6065|         0.194|         0.1475|        0.21|   14|\n",
      "|  M|  0.43|    0.35|  0.11|       0.406|        0.1675|          0.081|       0.135|   10|\n",
      "|  M|  0.49|    0.38| 0.135|      0.5415|        0.2175|          0.095|        0.19|   11|\n",
      "|  F| 0.535|   0.405| 0.145|      0.6845|        0.2725|          0.171|       0.205|   10|\n",
      "|  F|  0.47|   0.355|   0.1|      0.4755|        0.1675|         0.0805|       0.185|   10|\n",
      "|  M|   0.5|     0.4|  0.13|      0.6645|         0.258|          0.133|        0.24|   12|\n",
      "|  I| 0.355|    0.28| 0.085|      0.2905|         0.095|         0.0395|       0.115|    7|\n",
      "|  F|  0.44|    0.34|   0.1|       0.451|         0.188|          0.087|        0.13|   10|\n",
      "|  M| 0.365|   0.295|  0.08|      0.2555|         0.097|          0.043|         0.1|    7|\n",
      "|  M|  0.45|    0.32|   0.1|       0.381|        0.1705|          0.075|       0.115|    9|\n",
      "+---+------+--------+------+------------+--------------+---------------+------------+-----+\n",
      "only showing top 20 rows\n",
      "\n"
     ]
    }
   ],
   "source": [
    "# reading the data\n",
    "data = spark_session.read.csv(\"abalone.csv\", inferSchema=True)\n",
    "data = data.withColumnRenamed(\"_c0\",  \"sex\")\n",
    "data = data.withColumnRenamed(\"_c1\",  \"Length\")\n",
    "data = data.withColumnRenamed(\"_c2\",  \"Diameter\")\n",
    "data = data.withColumnRenamed(\"_c3\",  \"Height\")\n",
    "data = data.withColumnRenamed(\"_c4\",  \"Whole_weight\")\n",
    "data = data.withColumnRenamed(\"_c5\",  \"Shucked_weight\")\n",
    "data = data.withColumnRenamed(\"_c6\",  \"Viscera_weight \")\n",
    "data = data.withColumnRenamed(\"_c7\",  \"Shell_weight\")\n",
    "data = data.withColumnRenamed(\"_c8\",  \"Rings\")\n",
    "print(data.count())\n",
    "data.show()"
   ]
  },
  {
   "cell_type": "code",
   "execution_count": 4,
   "id": "f18cffb3",
   "metadata": {},
   "outputs": [
    {
     "name": "stdout",
     "output_type": "stream",
     "text": [
      "+---+------+--------+------+------------+--------------+---------------+------------+-----+-----------+\n",
      "|sex|Length|Diameter|Height|Whole_weight|Shucked_weight|Viscera_weight |Shell_weight|Rings|sex_indexed|\n",
      "+---+------+--------+------+------------+--------------+---------------+------------+-----+-----------+\n",
      "|  M| 0.455|   0.365| 0.095|       0.514|        0.2245|          0.101|        0.15|   15|        0.0|\n",
      "|  M|  0.35|   0.265|  0.09|      0.2255|        0.0995|         0.0485|        0.07|    7|        0.0|\n",
      "|  F|  0.53|    0.42| 0.135|       0.677|        0.2565|         0.1415|        0.21|    9|        2.0|\n",
      "|  M|  0.44|   0.365| 0.125|       0.516|        0.2155|          0.114|       0.155|   10|        0.0|\n",
      "|  I|  0.33|   0.255|  0.08|       0.205|        0.0895|         0.0395|       0.055|    7|        1.0|\n",
      "|  I| 0.425|     0.3| 0.095|      0.3515|         0.141|         0.0775|        0.12|    8|        1.0|\n",
      "|  F|  0.53|   0.415|  0.15|      0.7775|         0.237|         0.1415|        0.33|   20|        2.0|\n",
      "|  F| 0.545|   0.425| 0.125|       0.768|         0.294|         0.1495|        0.26|   16|        2.0|\n",
      "|  M| 0.475|    0.37| 0.125|      0.5095|        0.2165|         0.1125|       0.165|    9|        0.0|\n",
      "|  F|  0.55|    0.44|  0.15|      0.8945|        0.3145|          0.151|        0.32|   19|        2.0|\n",
      "|  F| 0.525|    0.38|  0.14|      0.6065|         0.194|         0.1475|        0.21|   14|        2.0|\n",
      "|  M|  0.43|    0.35|  0.11|       0.406|        0.1675|          0.081|       0.135|   10|        0.0|\n",
      "|  M|  0.49|    0.38| 0.135|      0.5415|        0.2175|          0.095|        0.19|   11|        0.0|\n",
      "|  F| 0.535|   0.405| 0.145|      0.6845|        0.2725|          0.171|       0.205|   10|        2.0|\n",
      "|  F|  0.47|   0.355|   0.1|      0.4755|        0.1675|         0.0805|       0.185|   10|        2.0|\n",
      "|  M|   0.5|     0.4|  0.13|      0.6645|         0.258|          0.133|        0.24|   12|        0.0|\n",
      "|  I| 0.355|    0.28| 0.085|      0.2905|         0.095|         0.0395|       0.115|    7|        1.0|\n",
      "|  F|  0.44|    0.34|   0.1|       0.451|         0.188|          0.087|        0.13|   10|        2.0|\n",
      "|  M| 0.365|   0.295|  0.08|      0.2555|         0.097|          0.043|         0.1|    7|        0.0|\n",
      "|  M|  0.45|    0.32|   0.1|       0.381|        0.1705|          0.075|       0.115|    9|        0.0|\n",
      "+---+------+--------+------+------------+--------------+---------------+------------+-----+-----------+\n",
      "only showing top 20 rows\n",
      "\n"
     ]
    }
   ],
   "source": [
    "# converting the sex into int \n",
    "from pyspark.ml.feature import StringIndexer\n",
    "str_indexer = StringIndexer(inputCol = \"sex\" , outputCol=\"sex_indexed\")\n",
    "indexed_data = str_indexer.fit(data).transform(data)\n",
    "indexed_data.show()"
   ]
  },
  {
   "cell_type": "code",
   "execution_count": 5,
   "id": "67e8257d",
   "metadata": {},
   "outputs": [],
   "source": [
    "# assembling the features\n",
    "from pyspark.ml.feature import VectorAssembler\n",
    "va = VectorAssembler(inputCols=[\"Length\",\"Diameter\",\"Height\",\"Whole_weight\",\"Shucked_weight\",\n",
    "                                \"Viscera_weight \",\"Shell_weight\",\"sex_indexed\"] , outputCol = \"features\")\n",
    "finalized_data = va.transform(indexed_data)\n",
    "finalized_data = finalized_data.select([\"features\" , \"Rings\"])\n"
   ]
  },
  {
   "cell_type": "code",
   "execution_count": 6,
   "id": "c9508ede",
   "metadata": {},
   "outputs": [
    {
     "name": "stdout",
     "output_type": "stream",
     "text": [
      "+-------------------------------------------------+-----+\n",
      "|features                                         |Rings|\n",
      "+-------------------------------------------------+-----+\n",
      "|[0.455,0.365,0.095,0.514,0.2245,0.101,0.15,0.0]  |15   |\n",
      "|[0.35,0.265,0.09,0.2255,0.0995,0.0485,0.07,0.0]  |7    |\n",
      "|[0.53,0.42,0.135,0.677,0.2565,0.1415,0.21,2.0]   |9    |\n",
      "|[0.44,0.365,0.125,0.516,0.2155,0.114,0.155,0.0]  |10   |\n",
      "|[0.33,0.255,0.08,0.205,0.0895,0.0395,0.055,1.0]  |7    |\n",
      "|[0.425,0.3,0.095,0.3515,0.141,0.0775,0.12,1.0]   |8    |\n",
      "|[0.53,0.415,0.15,0.7775,0.237,0.1415,0.33,2.0]   |20   |\n",
      "|[0.545,0.425,0.125,0.768,0.294,0.1495,0.26,2.0]  |16   |\n",
      "|[0.475,0.37,0.125,0.5095,0.2165,0.1125,0.165,0.0]|9    |\n",
      "|[0.55,0.44,0.15,0.8945,0.3145,0.151,0.32,2.0]    |19   |\n",
      "|[0.525,0.38,0.14,0.6065,0.194,0.1475,0.21,2.0]   |14   |\n",
      "|[0.43,0.35,0.11,0.406,0.1675,0.081,0.135,0.0]    |10   |\n",
      "|[0.49,0.38,0.135,0.5415,0.2175,0.095,0.19,0.0]   |11   |\n",
      "|[0.535,0.405,0.145,0.6845,0.2725,0.171,0.205,2.0]|10   |\n",
      "|[0.47,0.355,0.1,0.4755,0.1675,0.0805,0.185,2.0]  |10   |\n",
      "|[0.5,0.4,0.13,0.6645,0.258,0.133,0.24,0.0]       |12   |\n",
      "|[0.355,0.28,0.085,0.2905,0.095,0.0395,0.115,1.0] |7    |\n",
      "|[0.44,0.34,0.1,0.451,0.188,0.087,0.13,2.0]       |10   |\n",
      "|[0.365,0.295,0.08,0.2555,0.097,0.043,0.1,0.0]    |7    |\n",
      "|[0.45,0.32,0.1,0.381,0.1705,0.075,0.115,0.0]     |9    |\n",
      "+-------------------------------------------------+-----+\n",
      "only showing top 20 rows\n",
      "\n"
     ]
    }
   ],
   "source": [
    "finalized_data.show(truncate = False)"
   ]
  },
  {
   "cell_type": "code",
   "execution_count": 7,
   "id": "de2e8e9d",
   "metadata": {},
   "outputs": [
    {
     "name": "stdout",
     "output_type": "stream",
     "text": [
      "1255\n",
      "2922\n"
     ]
    }
   ],
   "source": [
    "#splitting the data into test and train\n",
    "test_data , train_data = finalized_data.randomSplit([0.3,0.7])\n",
    "print(test_data.count())\n",
    "print(train_data.count())"
   ]
  },
  {
   "cell_type": "code",
   "execution_count": 10,
   "id": "b75a646f",
   "metadata": {},
   "outputs": [],
   "source": [
    "from pyspark.ml.regression import LinearRegression\n",
    "regressor = LinearRegression(labelCol = \"Rings\")\n",
    "regressor = regressor.fit(train_data)\n",
    "predictions = regressor.evaluate(test_data).predictions"
   ]
  },
  {
   "cell_type": "code",
   "execution_count": 17,
   "id": "b2b18760",
   "metadata": {},
   "outputs": [
    {
     "name": "stdout",
     "output_type": "stream",
     "text": [
      "0.47867822002945615\n",
      "5.468289381433705\n",
      "1.6323583236769363\n",
      "2.3384373802677945\n"
     ]
    }
   ],
   "source": [
    "# evaluating the accuracy of the model\n",
    "from pyspark.ml.evaluation import RegressionEvaluator\n",
    "evaluator = RegressionEvaluator(labelCol=\"Rings\")\n",
    "print(evaluator.evaluate(predictions, {evaluator.metricName: \"r2\"})) #  the higher the better\n",
    "print(evaluator.evaluate(predictions, {evaluator.metricName: \"mse\"})) # the lower the better\n",
    "print(evaluator.evaluate(predictions, {evaluator.metricName: \"mae\"})) # the lower the better\n",
    "print(evaluator.evaluate(predictions, {evaluator.metricName: \"rmse\"})) # the lower the better"
   ]
  },
  {
   "cell_type": "code",
   "execution_count": null,
   "id": "6ca25863",
   "metadata": {},
   "outputs": [],
   "source": []
  }
 ],
 "metadata": {
  "kernelspec": {
   "display_name": "Python 3 (ipykernel)",
   "language": "python",
   "name": "python3"
  },
  "language_info": {
   "codemirror_mode": {
    "name": "ipython",
    "version": 3
   },
   "file_extension": ".py",
   "mimetype": "text/x-python",
   "name": "python",
   "nbconvert_exporter": "python",
   "pygments_lexer": "ipython3",
   "version": "3.10.5"
  }
 },
 "nbformat": 4,
 "nbformat_minor": 5
}
